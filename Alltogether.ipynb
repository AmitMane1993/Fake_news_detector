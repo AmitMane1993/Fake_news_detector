{
 "cells": [
  {
   "cell_type": "code",
   "execution_count": 1,
   "metadata": {
    "scrolled": true
   },
   "outputs": [
    {
     "name": "stderr",
     "output_type": "stream",
     "text": [
      "[nltk_data] Downloading package stopwords to\n",
      "[nltk_data]     C:\\Users\\Bhagoda\\AppData\\Roaming\\nltk_data...\n",
      "[nltk_data]   Package stopwords is already up-to-date!\n",
      "[nltk_data] Downloading package wordnet to\n",
      "[nltk_data]     C:\\Users\\Bhagoda\\AppData\\Roaming\\nltk_data...\n",
      "[nltk_data]   Package wordnet is already up-to-date!\n",
      "[nltk_data] Downloading package words to\n",
      "[nltk_data]     C:\\Users\\Bhagoda\\AppData\\Roaming\\nltk_data...\n",
      "[nltk_data]   Package words is already up-to-date!\n"
     ]
    }
   ],
   "source": [
    "from dataLoad import Load_Dataset\n",
    "from text_processor import Preprocessor\n",
    "from data_modelling import Dataprep\n",
    "from model_training import Train_model\n",
    "l = Load_Dataset(r'Dataset')\n",
    "data = l.cleanDataframe()\n",
    "p = Preprocessor(data)\n",
    "a = p.cleanText()\n",
    "d = Dataprep(a)\n",
    "p,q,r,s, max_voc = d.tokenizing()"
   ]
  },
  {
   "cell_type": "code",
   "execution_count": 2,
   "metadata": {},
   "outputs": [],
   "source": [
    "t = Train_model(p,q,r,s,64,10,max_voc)"
   ]
  },
  {
   "cell_type": "code",
   "execution_count": 3,
   "metadata": {},
   "outputs": [
    {
     "data": {
      "text/plain": [
       "103385"
      ]
     },
     "execution_count": 3,
     "metadata": {},
     "output_type": "execute_result"
    }
   ],
   "source": [
    "t.max_vocab"
   ]
  },
  {
   "cell_type": "code",
   "execution_count": 4,
   "metadata": {},
   "outputs": [],
   "source": [
    "model = t.build_model()"
   ]
  },
  {
   "cell_type": "code",
   "execution_count": 6,
   "metadata": {},
   "outputs": [
    {
     "name": "stdout",
     "output_type": "stream",
     "text": [
      "Epoch 1/5\n",
      "453/453 [==============================] - 278s 614ms/step - loss: 0.1750 - accuracy: 0.9305 - val_loss: 0.1002 - val_accuracy: 0.9652\n",
      "Epoch 2/5\n",
      "453/453 [==============================] - 274s 605ms/step - loss: 0.0609 - accuracy: 0.9815 - val_loss: 0.0873 - val_accuracy: 0.9746\n",
      "Epoch 3/5\n",
      "453/453 [==============================] - 256s 564ms/step - loss: 0.0265 - accuracy: 0.9926 - val_loss: 0.0865 - val_accuracy: 0.9747\n",
      "Epoch 4/5\n",
      "453/453 [==============================] - 295s 651ms/step - loss: 0.0144 - accuracy: 0.9964 - val_loss: 0.1032 - val_accuracy: 0.9707\n",
      "Epoch 5/5\n",
      "453/453 [==============================] - 6348s 14s/step - loss: 0.0078 - accuracy: 0.9985 - val_loss: 0.1221 - val_accuracy: 0.9747\n"
     ]
    },
    {
     "data": {
      "text/plain": [
       "<tensorflow.python.keras.callbacks.History at 0x1c9f553a940>"
      ]
     },
     "execution_count": 6,
     "metadata": {},
     "output_type": "execute_result"
    }
   ],
   "source": [
    "model.fit(p, r, epochs=5, \n",
    "          batch_size=64, \n",
    "          shuffle=True, \n",
    "          validation_data=(q,s),  \n",
    "          workers = 4)"
   ]
  },
  {
   "cell_type": "code",
   "execution_count": 8,
   "metadata": {},
   "outputs": [
    {
     "name": "stderr",
     "output_type": "stream",
     "text": [
      "WARNING:absl:Found untraced functions such as lstm_cell_layer_call_and_return_conditional_losses, lstm_cell_layer_call_fn, lstm_cell_layer_call_fn, lstm_cell_layer_call_and_return_conditional_losses, lstm_cell_layer_call_and_return_conditional_losses while saving (showing 5 of 5). These functions will not be directly callable after loading.\n"
     ]
    },
    {
     "name": "stdout",
     "output_type": "stream",
     "text": [
      "INFO:tensorflow:Assets written to: .\\assets\n"
     ]
    },
    {
     "name": "stderr",
     "output_type": "stream",
     "text": [
      "INFO:tensorflow:Assets written to: .\\assets\n"
     ]
    }
   ],
   "source": [
    "model.save(filepath=r'.')"
   ]
  },
  {
   "cell_type": "code",
   "execution_count": 10,
   "metadata": {},
   "outputs": [],
   "source": [
    "model.save_weights(filepath=r'.')"
   ]
  },
  {
   "cell_type": "code",
   "execution_count": null,
   "metadata": {},
   "outputs": [],
   "source": []
  }
 ],
 "metadata": {
  "kernelspec": {
   "display_name": "Python 3",
   "language": "python",
   "name": "python3"
  },
  "language_info": {
   "codemirror_mode": {
    "name": "ipython",
    "version": 3
   },
   "file_extension": ".py",
   "mimetype": "text/x-python",
   "name": "python",
   "nbconvert_exporter": "python",
   "pygments_lexer": "ipython3",
   "version": "3.8.5"
  }
 },
 "nbformat": 4,
 "nbformat_minor": 4
}
